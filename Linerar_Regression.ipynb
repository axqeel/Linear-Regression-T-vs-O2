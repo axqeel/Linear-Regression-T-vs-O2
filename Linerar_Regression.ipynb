{
  "nbformat": 4,
  "nbformat_minor": 0,
  "metadata": {
    "colab": {
      "provenance": []
    },
    "kernelspec": {
      "name": "python3",
      "display_name": "Python 3"
    },
    "language_info": {
      "name": "python"
    }
  },
  "cells": [
    {
      "cell_type": "code",
      "execution_count": 37,
      "metadata": {
        "id": "JP9k4KlJ4iTw"
      },
      "outputs": [],
      "source": [
        "import pandas as pd\n",
        "import numpy as np\n",
        "from sklearn.model_selection import train_test_split\n",
        "from sklearn.metrics import mean_squared_error\n",
        "from math import sqrt as sqrt\n",
        "from sklearn.linear_model import LinearRegression"
      ]
    },
    {
      "cell_type": "code",
      "source": [
        "#Data Preprocessing\n",
        "dff = pd.read_csv('/lois_continuous.csv')\n",
        "print(df.head())\n",
        "df=dff[dff[\"SITE_NAME\"]==\"Swale at Catterick Bridge\"]\n",
        "\n",
        "df = df.drop(columns=['FID', 'ID', 'SITE_NAME', 'DATE'])\n",
        "\n",
        "temperature_col = 'Temperature water continuous'\n",
        "oxygen_col = 'Oxygen dissolved continuous'\n",
        "df = df[[temperature_col, oxygen_col]]\n",
        "\n",
        "df = df.dropna()\n",
        "\n",
        "X = df[[temperature_col]].values\n",
        "y = df[oxygen_col].values"
      ],
      "metadata": {
        "colab": {
          "base_uri": "https://localhost:8080/"
        },
        "id": "ojetydKHBzPO",
        "outputId": "5d7708f4-c0c0-4d3b-93ba-0065a0610d5d"
      },
      "execution_count": 38,
      "outputs": [
        {
          "output_type": "stream",
          "name": "stdout",
          "text": [
            "   Temperature water continuous  Oxygen dissolved continuous\n",
            "0                          16.8                        102.2\n",
            "1                          17.2                        105.8\n",
            "2                          17.5                        107.0\n",
            "3                          17.9                        108.7\n",
            "4                          18.3                        110.2\n"
          ]
        }
      ]
    },
    {
      "cell_type": "code",
      "source": [
        "model=LinearRegression()\n",
        "model.fit(x_train,y_train)\n",
        "y_pred=model.predict(x_test)"
      ],
      "metadata": {
        "id": "GOlbx1899oMy"
      },
      "execution_count": 39,
      "outputs": []
    },
    {
      "cell_type": "code",
      "source": [
        "mse=mean_squared_error(y_test,y_pred)\n",
        "print(\"Mean Squared Error=\",mse)\n",
        "print(\"Root Mean Squared Error=\",sqrt(mse))"
      ],
      "metadata": {
        "colab": {
          "base_uri": "https://localhost:8080/"
        },
        "id": "TcIOjGjj9_Eo",
        "outputId": "03d89c13-03d4-4352-ea6a-661964f0d669"
      },
      "execution_count": 40,
      "outputs": [
        {
          "output_type": "stream",
          "name": "stdout",
          "text": [
            "Mean Squared Error= 77.10182004808098\n",
            "Root Mean Squared Error= 8.780764206382095\n"
          ]
        }
      ]
    }
  ]
}